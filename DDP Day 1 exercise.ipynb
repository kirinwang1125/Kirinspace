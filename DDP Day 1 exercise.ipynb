{
 "cells": [
  {
   "cell_type": "markdown",
   "id": "fe648e4f",
   "metadata": {},
   "source": [
    "# Day 1 Exercise\n",
    "### 1. Write a function that will take in a string parameter and return a string in its equivalent Morse code."
   ]
  },
  {
   "cell_type": "code",
   "execution_count": 5,
   "id": "d5368a25",
   "metadata": {},
   "outputs": [],
   "source": [
    "# [In] morse_code(\"Hello World”)\n",
    "#[Out] ‘.... . .-.. .-.. --- .-- --- .-..-.. -..’"
   ]
  },
  {
   "cell_type": "code",
   "execution_count": 71,
   "id": "e830fc59",
   "metadata": {},
   "outputs": [],
   "source": [
    "morsecode = {\"a\":\".-\", \"b\":\"-.-.\", \"c\":\"-...\", \"d\":\"-..\",\"e\":\".\", \"f\":\"..-.\", \"g\":\"--.\",\n",
    "                \"h\":\"....\", \"i\":\"..\", \"j\":\".---\", \"k\":\"-.-\",\"l\":\".-..\", \"m\":\"--\", \"n\":\"-.\",\n",
    "                \"o\":\"---\", \"p\":\".--.\", \"q\":\"--.-\",\"r\":\".-.\", \"s\":\"...\", \"t\":\"-\",\"u\":\"..-\", \n",
    "                \"v\":\"...-\", \"w\":\".--\",\"x\":\"-..-\", \"y\":\"-.--\", \"z\":\"--..\",\" \":\"_\"}\n",
    "\n",
    "def morse_code(str):\n",
    "    str= str.lower()   #Transform all the letters to lower case.\n",
    "    morse_msg = \"\"\n",
    "    for letter in str:\n",
    "        morse_msg += (morsecode[letter] +' ' )\n",
    "    return morse_msg"
   ]
  },
  {
   "cell_type": "code",
   "execution_count": 72,
   "id": "aa8e5e6e",
   "metadata": {},
   "outputs": [
    {
     "data": {
      "text/plain": [
       "'.... . .-.. .-.. --- _ .-- --- .-. .-.. -.. '"
      ]
     },
     "execution_count": 72,
     "metadata": {},
     "output_type": "execute_result"
    }
   ],
   "source": [
    "morse_code(\"Hello World\")"
   ]
  },
  {
   "cell_type": "markdown",
   "id": "e75e5b83",
   "metadata": {},
   "source": [
    "### 2. Write a function that accepts a string and prints to screen the number of uppercase letters and lowercase letters."
   ]
  },
  {
   "cell_type": "code",
   "execution_count": 65,
   "id": "e5f257cc",
   "metadata": {},
   "outputs": [],
   "source": [
    "#[In] case_count(\"Hello World”)\n",
    "#[Out] (‘Uppercase: 2’, ‘Lowercase: 8’)"
   ]
  },
  {
   "cell_type": "code",
   "execution_count": 123,
   "id": "d43832da",
   "metadata": {},
   "outputs": [],
   "source": [
    "def case_count(str):\n",
    "    num_uppercase = 0\n",
    "    num_lowercase = 0\n",
    "    \n",
    "    for letter in str:\n",
    "            \n",
    "        #For counting lower cases\n",
    "        if letter >= \"a\" and letter <= \"z\":\n",
    "            num_lowercase += 1\n",
    "            \n",
    "        #For counting upper cases\n",
    "        elif letter >=\"A\" and letter <= \"Z\":\n",
    "            num_uppercase += 1\n",
    "            \n",
    "    print('Upper case:',num_uppercase,', ','Lowercase:',num_lowercase)"
   ]
  },
  {
   "cell_type": "code",
   "execution_count": 124,
   "id": "8810d299",
   "metadata": {},
   "outputs": [
    {
     "name": "stdout",
     "output_type": "stream",
     "text": [
      "Upper case: 2 ,  Lowercase: 8\n"
     ]
    }
   ],
   "source": [
    "case_count(\"Hello World\")  "
   ]
  },
  {
   "cell_type": "markdown",
   "id": "29714ac6",
   "metadata": {},
   "source": [
    "### Write a scheduling function to take two dates (todays_date & scheduled_date) in the following format '26th March' and print out if the date has passed or not."
   ]
  },
  {
   "cell_type": "code",
   "execution_count": null,
   "id": "22e06a24",
   "metadata": {},
   "outputs": [],
   "source": [
    "#[In] date_passed(\"21st February”, “3rd March”)\n",
    "#[Out] False\n",
    "#[In] date_passed(\"4th April”, “3rd March”)\n",
    "#[Out] True"
   ]
  },
  {
   "cell_type": "code",
   "execution_count": 126,
   "id": "da494614",
   "metadata": {},
   "outputs": [],
   "source": [
    "def schedule(date1, date2):\n",
    "    for date in date1, date2:\n",
    "        if date1 > date2:\n",
    "            print(True)"
   ]
  },
  {
   "cell_type": "code",
   "execution_count": 131,
   "id": "79e66e2d",
   "metadata": {},
   "outputs": [
    {
     "ename": "SyntaxError",
     "evalue": "EOL while scanning string literal (<ipython-input-131-c007325bc99d>, line 1)",
     "output_type": "error",
     "traceback": [
      "\u001b[0;36m  File \u001b[0;32m\"<ipython-input-131-c007325bc99d>\"\u001b[0;36m, line \u001b[0;32m1\u001b[0m\n\u001b[0;31m    schedule(\"21st February”, “3rd March”)\u001b[0m\n\u001b[0m                                          ^\u001b[0m\n\u001b[0;31mSyntaxError\u001b[0m\u001b[0;31m:\u001b[0m EOL while scanning string literal\n"
     ]
    }
   ],
   "source": [
    "schedule(\"21st February”, “3rd March”)"
   ]
  },
  {
   "cell_type": "code",
   "execution_count": null,
   "id": "85283b3c",
   "metadata": {},
   "outputs": [],
   "source": []
  }
 ],
 "metadata": {
  "kernelspec": {
   "display_name": "Python 3",
   "language": "python",
   "name": "python3"
  },
  "language_info": {
   "codemirror_mode": {
    "name": "ipython",
    "version": 3
   },
   "file_extension": ".py",
   "mimetype": "text/x-python",
   "name": "python",
   "nbconvert_exporter": "python",
   "pygments_lexer": "ipython3",
   "version": "3.8.8"
  }
 },
 "nbformat": 4,
 "nbformat_minor": 5
}
