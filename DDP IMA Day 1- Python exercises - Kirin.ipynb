{
 "cells": [
  {
   "cell_type": "markdown",
   "id": "fe648e4f",
   "metadata": {},
   "source": [
    "# Day 1 Exercise\n",
    "### 1. Write a function that will take in a string parameter and return a string in its equivalent Morse code."
   ]
  },
  {
   "cell_type": "code",
   "execution_count": 5,
   "id": "d5368a25",
   "metadata": {},
   "outputs": [],
   "source": [
    "# [In] morse_code(\"Hello World”)\n",
    "#[Out] ‘.... . .-.. .-.. --- .-- --- .-..-.. -..’"
   ]
  },
  {
   "cell_type": "code",
   "execution_count": 71,
   "id": "e830fc59",
   "metadata": {},
   "outputs": [],
   "source": [
    "morsecode = {\"a\":\".-\", \"b\":\"-.-.\", \"c\":\"-...\", \"d\":\"-..\",\"e\":\".\", \"f\":\"..-.\", \"g\":\"--.\",\n",
    "                \"h\":\"....\", \"i\":\"..\", \"j\":\".---\", \"k\":\"-.-\",\"l\":\".-..\", \"m\":\"--\", \"n\":\"-.\",\n",
    "                \"o\":\"---\", \"p\":\".--.\", \"q\":\"--.-\",\"r\":\".-.\", \"s\":\"...\", \"t\":\"-\",\"u\":\"..-\", \n",
    "                \"v\":\"...-\", \"w\":\".--\",\"x\":\"-..-\", \"y\":\"-.--\", \"z\":\"--..\",\" \":\"_\"}\n",
    "\n",
    "def morse_code(str):\n",
    "    str= str.lower()   #Transform all the letters to lower case.\n",
    "    morse_msg = \"\"\n",
    "    for letter in str:\n",
    "        morse_msg += (morsecode[letter] +' ' )\n",
    "    return morse_msg"
   ]
  },
  {
   "cell_type": "code",
   "execution_count": 72,
   "id": "aa8e5e6e",
   "metadata": {},
   "outputs": [
    {
     "data": {
      "text/plain": [
       "'.... . .-.. .-.. --- _ .-- --- .-. .-.. -.. '"
      ]
     },
     "execution_count": 72,
     "metadata": {},
     "output_type": "execute_result"
    }
   ],
   "source": [
    "morse_code(\"Hello World\")"
   ]
  },
  {
   "cell_type": "markdown",
   "id": "e75e5b83",
   "metadata": {},
   "source": [
    "### 2. Write a function that accepts a string and prints to screen the number of uppercase letters and lowercase letters."
   ]
  },
  {
   "cell_type": "code",
   "execution_count": 65,
   "id": "e5f257cc",
   "metadata": {},
   "outputs": [],
   "source": [
    "#[In] case_count(\"Hello World”)\n",
    "#[Out] (‘Uppercase: 2’, ‘Lowercase: 8’)"
   ]
  },
  {
   "cell_type": "code",
   "execution_count": 123,
   "id": "d43832da",
   "metadata": {},
   "outputs": [],
   "source": [
    "def case_count(str):\n",
    "    num_uppercase = 0\n",
    "    num_lowercase = 0\n",
    "    \n",
    "    for letter in str:\n",
    "            \n",
    "        #For counting lower cases\n",
    "        if letter >= \"a\" and letter <= \"z\":\n",
    "            num_lowercase += 1\n",
    "            \n",
    "        #For counting upper cases\n",
    "        elif letter >=\"A\" and letter <= \"Z\":\n",
    "            num_uppercase += 1\n",
    "            \n",
    "    print('Upper case:',num_uppercase,', ','Lowercase:',num_lowercase)"
   ]
  },
  {
   "cell_type": "code",
   "execution_count": 124,
   "id": "8810d299",
   "metadata": {},
   "outputs": [
    {
     "name": "stdout",
     "output_type": "stream",
     "text": [
      "Upper case: 2 ,  Lowercase: 8\n"
     ]
    }
   ],
   "source": [
    "case_count(\"Hello World\")  "
   ]
  }
 ],
 "metadata": {
  "kernelspec": {
   "display_name": "Python 3",
   "language": "python",
   "name": "python3"
  },
  "language_info": {
   "codemirror_mode": {
    "name": "ipython",
    "version": 3
   },
   "file_extension": ".py",
   "mimetype": "text/x-python",
   "name": "python",
   "nbconvert_exporter": "python",
   "pygments_lexer": "ipython3",
   "version": "3.8.8"
  }
 },
 "nbformat": 4,
 "nbformat_minor": 5
}
