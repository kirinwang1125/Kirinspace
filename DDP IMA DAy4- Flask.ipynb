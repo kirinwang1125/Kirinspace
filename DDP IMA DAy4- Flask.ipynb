{
  "nbformat": 4,
  "nbformat_minor": 0,
  "metadata": {
    "colab": {
      "name": "Untitled3.ipynb",
      "provenance": []
    },
    "kernelspec": {
      "name": "python3",
      "display_name": "Python 3"
    },
    "language_info": {
      "name": "python"
    }
  },
  "cells": [
    {
      "cell_type": "code",
      "execution_count": 1,
      "metadata": {
        "colab": {
          "base_uri": "https://localhost:8080/"
        },
        "id": "H_WE9PxKWrBd",
        "outputId": "2588493a-02a1-449d-8180-96b802da4c80"
      },
      "outputs": [
        {
          "output_type": "stream",
          "name": "stdout",
          "text": [
            "Collecting flask-ngrok\n",
            "  Downloading flask_ngrok-0.0.25-py3-none-any.whl (3.1 kB)\n",
            "Requirement already satisfied: requests in /usr/local/lib/python3.7/dist-packages (from flask-ngrok) (2.23.0)\n",
            "Requirement already satisfied: Flask>=0.8 in /usr/local/lib/python3.7/dist-packages (from flask-ngrok) (1.1.4)\n",
            "Requirement already satisfied: Jinja2<3.0,>=2.10.1 in /usr/local/lib/python3.7/dist-packages (from Flask>=0.8->flask-ngrok) (2.11.3)\n",
            "Requirement already satisfied: itsdangerous<2.0,>=0.24 in /usr/local/lib/python3.7/dist-packages (from Flask>=0.8->flask-ngrok) (1.1.0)\n",
            "Requirement already satisfied: click<8.0,>=5.1 in /usr/local/lib/python3.7/dist-packages (from Flask>=0.8->flask-ngrok) (7.1.2)\n",
            "Requirement already satisfied: Werkzeug<2.0,>=0.15 in /usr/local/lib/python3.7/dist-packages (from Flask>=0.8->flask-ngrok) (1.0.1)\n",
            "Requirement already satisfied: MarkupSafe>=0.23 in /usr/local/lib/python3.7/dist-packages (from Jinja2<3.0,>=2.10.1->Flask>=0.8->flask-ngrok) (2.0.1)\n",
            "Requirement already satisfied: idna<3,>=2.5 in /usr/local/lib/python3.7/dist-packages (from requests->flask-ngrok) (2.10)\n",
            "Requirement already satisfied: certifi>=2017.4.17 in /usr/local/lib/python3.7/dist-packages (from requests->flask-ngrok) (2021.10.8)\n",
            "Requirement already satisfied: chardet<4,>=3.0.2 in /usr/local/lib/python3.7/dist-packages (from requests->flask-ngrok) (3.0.4)\n",
            "Requirement already satisfied: urllib3!=1.25.0,!=1.25.1,<1.26,>=1.21.1 in /usr/local/lib/python3.7/dist-packages (from requests->flask-ngrok) (1.24.3)\n",
            "Installing collected packages: flask-ngrok\n",
            "Successfully installed flask-ngrok-0.0.25\n",
            "Collecting pyngrok\n",
            "  Downloading pyngrok-5.1.0.tar.gz (745 kB)\n",
            "\u001b[K     |████████████████████████████████| 745 kB 3.2 MB/s \n",
            "\u001b[?25hRequirement already satisfied: PyYAML in /usr/local/lib/python3.7/dist-packages (from pyngrok) (3.13)\n",
            "Building wheels for collected packages: pyngrok\n",
            "  Building wheel for pyngrok (setup.py) ... \u001b[?25l\u001b[?25hdone\n",
            "  Created wheel for pyngrok: filename=pyngrok-5.1.0-py3-none-any.whl size=19007 sha256=62c482c804701548a7b5abc9f774a54117aea7f5a4207f22141c6ea66562cf5b\n",
            "  Stored in directory: /root/.cache/pip/wheels/bf/e6/af/ccf6598ecefecd44104069371795cb9b3afbcd16987f6ccfb3\n",
            "Successfully built pyngrok\n",
            "Installing collected packages: pyngrok\n",
            "Successfully installed pyngrok-5.1.0\n",
            "Collecting flask-wtf\n",
            "  Downloading Flask_WTF-1.0.0-py3-none-any.whl (12 kB)\n",
            "Requirement already satisfied: itsdangerous in /usr/local/lib/python3.7/dist-packages (from flask-wtf) (1.1.0)\n",
            "Collecting WTForms\n",
            "  Downloading WTForms-3.0.1-py3-none-any.whl (136 kB)\n",
            "\u001b[K     |████████████████████████████████| 136 kB 3.2 MB/s \n",
            "\u001b[?25hRequirement already satisfied: Flask in /usr/local/lib/python3.7/dist-packages (from flask-wtf) (1.1.4)\n",
            "Requirement already satisfied: click<8.0,>=5.1 in /usr/local/lib/python3.7/dist-packages (from Flask->flask-wtf) (7.1.2)\n",
            "Requirement already satisfied: Werkzeug<2.0,>=0.15 in /usr/local/lib/python3.7/dist-packages (from Flask->flask-wtf) (1.0.1)\n",
            "Requirement already satisfied: Jinja2<3.0,>=2.10.1 in /usr/local/lib/python3.7/dist-packages (from Flask->flask-wtf) (2.11.3)\n",
            "Requirement already satisfied: MarkupSafe>=0.23 in /usr/local/lib/python3.7/dist-packages (from Jinja2<3.0,>=2.10.1->Flask->flask-wtf) (2.0.1)\n",
            "Installing collected packages: WTForms, flask-wtf\n",
            "Successfully installed WTForms-3.0.1 flask-wtf-1.0.0\n",
            "Authtoken saved to configuration file: /root/.ngrok2/ngrok.yml\n"
          ]
        }
      ],
      "source": [
        "!pip install flask-ngrok\n",
        "!pip install pyngrok\n",
        "!pip install flask-wtf\n",
        "\n",
        "!ngrok authtoken \"26BvkOuEUWRkoq69Xs4hq9oS4z1_4zGidGeSQ8UNzigb9YUZC\""
      ]
    },
    {
      "cell_type": "code",
      "source": [
        "!git clone \"https://github.com/kirinwang1125/template\"\n"
      ],
      "metadata": {
        "colab": {
          "base_uri": "https://localhost:8080/"
        },
        "id": "NxC-W2yaWvZd",
        "outputId": "d68293a5-bf67-4f58-bb49-21181785af41"
      },
      "execution_count": 5,
      "outputs": [
        {
          "output_type": "stream",
          "name": "stdout",
          "text": [
            "Cloning into 'template'...\n",
            "remote: Enumerating objects: 51, done.\u001b[K\n",
            "remote: Counting objects: 100% (51/51), done.\u001b[K\n",
            "remote: Compressing objects: 100% (33/33), done.\u001b[K\n",
            "remote: Total 51 (delta 18), reused 49 (delta 16), pack-reused 0\u001b[K\n",
            "Unpacking objects: 100% (51/51), done.\n"
          ]
        }
      ]
    },
    {
      "cell_type": "code",
      "source": [
        "import os\n",
        "os.chdir(\"/content/template\")\n",
        "os.listdir()"
      ],
      "metadata": {
        "colab": {
          "base_uri": "https://localhost:8080/"
        },
        "id": "XQcaXmkeXWi8",
        "outputId": "1ce91b72-482b-4ee5-8200-61aa53dba4e0"
      },
      "execution_count": 6,
      "outputs": [
        {
          "output_type": "execute_result",
          "data": {
            "text/plain": [
              "['NamesTwo.csv',\n",
              " '.gitattributes',\n",
              " 'LICENSE',\n",
              " 'flask_screenshot.png',\n",
              " 'images',\n",
              " 'requirements.txt',\n",
              " 'README.md',\n",
              " '.git',\n",
              " 'css',\n",
              " 'templates',\n",
              " 'app.py',\n",
              " 'template',\n",
              " '.DS_Store']"
            ]
          },
          "metadata": {},
          "execution_count": 6
        }
      ]
    },
    {
      "cell_type": "code",
      "source": [
        "from flask import *\n",
        "from flask_ngrok import run_with_ngrok\n",
        "\n",
        "app = Flask(__name__)\n",
        "\n",
        "app_data = {\n",
        "    \"name\":         \"Peter's Starter Template for a Flask Web App\",\n",
        "    \"description\":  \"A basic Flask app using bootstrap for layout\",\n",
        "    \"author\":       \"Peter Simeth\",\n",
        "    \"html_title\":   \"Peter's Starter Template for a Flask Web App\",\n",
        "    \"project_name\": \"Starter Template\",\n",
        "    \"keywords\":     \"flask, webapp, template, basic\"\n",
        "}\n",
        "\n",
        "\n",
        "@app.route('/')\n",
        "def index():\n",
        "    return render_template('index.html', app_data=app_data)\n",
        "\n",
        "run_with_ngrok(app)\n",
        "app.run()"
      ],
      "metadata": {
        "colab": {
          "base_uri": "https://localhost:8080/"
        },
        "id": "zV2DPWHSXamP",
        "outputId": "c6e04581-287c-4759-9134-1d2c098b5adc"
      },
      "execution_count": null,
      "outputs": [
        {
          "output_type": "stream",
          "name": "stdout",
          "text": [
            " * Serving Flask app \"__main__\" (lazy loading)\n",
            " * Environment: production\n",
            "\u001b[31m   WARNING: This is a development server. Do not use it in a production deployment.\u001b[0m\n",
            "\u001b[2m   Use a production WSGI server instead.\u001b[0m\n",
            " * Debug mode: off\n"
          ]
        },
        {
          "output_type": "stream",
          "name": "stderr",
          "text": [
            " * Running on http://127.0.0.1:5000/ (Press CTRL+C to quit)\n"
          ]
        },
        {
          "output_type": "stream",
          "name": "stdout",
          "text": [
            " * Running on http://24eb-34-73-97-73.ngrok.io\n",
            " * Traffic stats available on http://127.0.0.1:4040\n"
          ]
        },
        {
          "output_type": "stream",
          "name": "stderr",
          "text": [
            "127.0.0.1 - - [10/Mar/2022 16:29:24] \"\u001b[37mGET / HTTP/1.1\u001b[0m\" 200 -\n",
            "127.0.0.1 - - [10/Mar/2022 16:29:24] \"\u001b[33mGET /css/style.css HTTP/1.1\u001b[0m\" 404 -\n",
            "127.0.0.1 - - [10/Mar/2022 16:29:24] \"\u001b[33mGET /images/WechatIMG27.jpeg HTTP/1.1\u001b[0m\" 404 -\n",
            "127.0.0.1 - - [10/Mar/2022 16:29:24] \"\u001b[33mGET /images/ecommerce.png HTTP/1.1\u001b[0m\" 404 -\n",
            "127.0.0.1 - - [10/Mar/2022 16:29:24] \"\u001b[33mGET /images/metaverse.png HTTP/1.1\u001b[0m\" 404 -\n",
            "127.0.0.1 - - [10/Mar/2022 16:29:24] \"\u001b[33mGET /images/fashion.png HTTP/1.1\u001b[0m\" 404 -\n",
            "127.0.0.1 - - [10/Mar/2022 16:29:24] \"\u001b[33mGET /iimages/WechatIMG27.jpeg HTTP/1.1\u001b[0m\" 404 -\n",
            "127.0.0.1 - - [10/Mar/2022 16:30:41] \"\u001b[37mGET / HTTP/1.1\u001b[0m\" 200 -\n",
            "127.0.0.1 - - [10/Mar/2022 16:30:42] \"\u001b[33mGET /images/metaverse.png HTTP/1.1\u001b[0m\" 404 -\n",
            "127.0.0.1 - - [10/Mar/2022 16:30:43] \"\u001b[33mGET /css/style.css HTTP/1.1\u001b[0m\" 404 -\n",
            "127.0.0.1 - - [10/Mar/2022 16:30:43] \"\u001b[33mGET /images/ecommerce.png HTTP/1.1\u001b[0m\" 404 -\n",
            "127.0.0.1 - - [10/Mar/2022 16:30:43] \"\u001b[33mGET /images/WechatIMG27.jpeg HTTP/1.1\u001b[0m\" 404 -\n",
            "127.0.0.1 - - [10/Mar/2022 16:30:43] \"\u001b[33mGET /images/fashion.png HTTP/1.1\u001b[0m\" 404 -\n"
          ]
        }
      ]
    }
  ]
}